{
 "cells": [
  {
   "cell_type": "code",
   "execution_count": 1,
   "metadata": {},
   "outputs": [],
   "source": [
    "import numpy as np\n",
    "import gym\n",
    "import random\n",
    "from tqdm import tqdm"
   ]
  },
  {
   "cell_type": "code",
   "execution_count": 2,
   "metadata": {},
   "outputs": [
    {
     "data": {
      "text/html": [
       "<img src=\"img/eps-greedy.png\">\n",
       "<img src=\"img/algo.png\">\n"
      ],
      "text/plain": [
       "<IPython.core.display.HTML object>"
      ]
     },
     "metadata": {},
     "output_type": "display_data"
    }
   ],
   "source": [
    "%%html\n",
    "<img src=\"img/eps-greedy.png\">\n",
    "<img src=\"img/algo.png\">"
   ]
  },
  {
   "cell_type": "code",
   "execution_count": 3,
   "metadata": {},
   "outputs": [],
   "source": [
    "env = gym.make('FrozenLake-v0')\n",
    "alpha = 0.1\n",
    "max_steps = 250 \n",
    "episodes = 100000\n",
    "gamma = 0.95\n",
    "epsilon = 0.8\n",
    "_lambda = 0.8"
   ]
  },
  {
   "cell_type": "code",
   "execution_count": 4,
   "metadata": {
    "tags": []
   },
   "outputs": [],
   "source": [
    "def Initialize_Q():\n",
    "    Q = np.zeros((env.env.nS,env.env.nA))\n",
    "    return Q\n",
    "\n",
    "def Initialize_E():\n",
    "    E = np.zeros((env.env.nS,env.env.nA))\n",
    "    return E\n",
    "\n",
    "def Initalize_Policy(env):\n",
    "    Policy = np.array([env.action_space.sample() for _ in range(env.env.nS)])\n",
    "    return Policy\n",
    "\n",
    "def tune_params():\n",
    "    global epsilon, alpha\n",
    "    epsilon = epsilon * 0.99\n",
    "    alpha = alpha * 0.9995\n",
    "\n",
    "def eps_greedy_policy(state,Q):\n",
    "    if random.uniform(0,1) <=  1 - epsilon:\n",
    "        new_action = np.argmax(Q[state,:]) #exploit\n",
    "    else:\n",
    "        new_action = env.action_space.sample() #explore\n",
    "    return new_action\n",
    "    \n",
    "def Sarsa_lambda(episodes=episodes,max_steps=max_steps):\n",
    "    Q = Initialize_Q()\n",
    "    total_steps = 0\n",
    "\n",
    "    for k in tqdm(range(episodes)):\n",
    "        \n",
    "        env.reset() #not sure here\n",
    "        \n",
    "        #init E,S,A\n",
    "        E = Initialize_E()\n",
    "        state = random.randint(0,env.env.nS-1) #env.reset() \n",
    "        action = eps_greedy_policy(state,Q)\n",
    "        \n",
    "        for step in range(max_steps):\n",
    "            #Take action A, ovserve R,S'\n",
    "            new_state, reward, done, _ = env.step(action)\n",
    "            new_action = eps_greedy_policy(new_state,Q)\n",
    "            \n",
    "            delta_error = reward + gamma*Q[new_state,new_action]-Q[state,action]\n",
    "            E[state,action]+=1\n",
    "            Q = np.add(Q, np.multiply(alpha * delta_error, E))\n",
    "            E = np.multiply(gamma * _lambda, E)\n",
    "            \n",
    "            state=new_state\n",
    "            action=new_action\n",
    "            if done:\n",
    "                #decay epsilon and alpha each episode (maybe will improve results)\n",
    "                #tune_params() \n",
    "                break\n",
    "        \n",
    "        total_steps+=step\n",
    "        # Do here something every number of steps:\n",
    "        # if total_steps%< == 0:\n",
    "        \n",
    "    return Q,np.argmax(Q,axis=1) #returns Q and the policy\n"
   ]
  },
  {
   "cell_type": "code",
   "execution_count": 5,
   "metadata": {},
   "outputs": [
    {
     "name": "stderr",
     "output_type": "stream",
     "text": [
      "100%|████████████████████████████████████████████████████████████████████████| 100000/100000 [00:19<00:00, 5021.32it/s]\n"
     ]
    }
   ],
   "source": [
    "Q,Policy = Sarsa_lambda(episodes,max_steps)"
   ]
  },
  {
   "cell_type": "code",
   "execution_count": 6,
   "metadata": {},
   "outputs": [
    {
     "name": "stdout",
     "output_type": "stream",
     "text": [
      "\n",
      "\u001b[41mS\u001b[0mFFF\n",
      "FHFH\n",
      "FFFH\n",
      "HFFG\n",
      "[['D' 'D' 'L' 'L']\n",
      " ['R' 'R' 'L' 'D']\n",
      " ['R' 'U' 'L' 'L']\n",
      " ['D' 'R' 'R' 'D']]\n"
     ]
    }
   ],
   "source": [
    "def decode_action(action):\n",
    "    if action == 0:\n",
    "        return \"L\"\n",
    "    if action == 1:\n",
    "        return \"D\"\n",
    "    if action == 2:\n",
    "        return \"R\"\n",
    "    if action == 3:\n",
    "        return \"U\"\n",
    "    else:\n",
    "        return \"Unknown\"\n",
    "\n",
    "env.reset()\n",
    "env.render()\n",
    "print(np.array([decode_action(action) for action in Policy]).reshape((4,4)))"
   ]
  }
 ],
 "metadata": {
  "kernelspec": {
   "display_name": "Python 3",
   "language": "python",
   "name": "python3"
  },
  "language_info": {
   "codemirror_mode": {
    "name": "ipython",
    "version": 3
   },
   "file_extension": ".py",
   "mimetype": "text/x-python",
   "name": "python",
   "nbconvert_exporter": "python",
   "pygments_lexer": "ipython3",
   "version": "3.8.5"
  }
 },
 "nbformat": 4,
 "nbformat_minor": 2
}
