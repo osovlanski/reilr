{
 "cells": [
  {
   "cell_type": "code",
   "execution_count": 1,
   "metadata": {},
   "outputs": [],
   "source": [
    "import numpy as np\n",
    "import gym\n",
    "import random\n",
    "from tqdm import tqdm"
   ]
  },
  {
   "cell_type": "code",
   "execution_count": 2,
   "metadata": {},
   "outputs": [
    {
     "data": {
      "text/html": [
       "<img src=\"img/eps-greedy.png\">\n",
       "<img src=\"img/algo.png\">\n"
      ],
      "text/plain": [
       "<IPython.core.display.HTML object>"
      ]
     },
     "metadata": {},
     "output_type": "display_data"
    }
   ],
   "source": [
    "%%html\n",
    "<img src=\"img/eps-greedy.png\">\n",
    "<img src=\"img/algo.png\">"
   ]
  },
  {
   "cell_type": "code",
   "execution_count": 3,
   "metadata": {},
   "outputs": [],
   "source": [
    "env_type = \"FrozenLake8x8-v0\""
   ]
  },
  {
   "cell_type": "code",
   "execution_count": 4,
   "metadata": {},
   "outputs": [],
   "source": [
    "env = gym.make(env_type)\n",
    "\n",
    "alpha = 0.05\n",
    "max_steps = 250 \n",
    "episodes = 100000\n",
    "epsilon_origin = 1.0\n",
    "epsilon = 1.0\n",
    "gamma = 0.95\n",
    "_lambda = 0.5\n",
    "\n",
    "NUMBER_OF_EVAL_SIMS = 15\n",
    "history = []\n",
    "is_decay = True"
   ]
  },
  {
   "cell_type": "code",
   "execution_count": 5,
   "metadata": {
    "tags": []
   },
   "outputs": [],
   "source": [
    "def Initialize_Q():\n",
    "    Q = np.zeros((env.env.nS,env.env.nA))\n",
    "    return Q\n",
    "\n",
    "def Initialize_E():\n",
    "    E = np.zeros((env.env.nS,env.env.nA))\n",
    "    return E\n",
    "\n",
    "def Initalize_Policy(env):\n",
    "    Policy = np.array([env.action_space.sample() for _ in range(env.env.nS)])\n",
    "    return Policy\n",
    "\n",
    "def tune_params():\n",
    "    global epsilon\n",
    "    epsilon = epsilon * 0.999985\n",
    "\n",
    "\n",
    "def eps_greedy_policy(state,Q):    \n",
    "    if random.uniform(0,1) <  epsilon:\n",
    "        new_action = env.action_space.sample() #explore\n",
    "    else:\n",
    "        new_action = np.argmax(Q[state,:]) #exploit\n",
    "        \n",
    "    return new_action\n",
    "\n",
    "def policy_eval(policy):\n",
    "    \"\"\"\n",
    "    policy should be an iterable with length of number of states (action per state)\n",
    "    \"\"\"\n",
    "    rewards = []\n",
    "    for i in range(NUMBER_OF_EVAL_SIMS):\n",
    "        state = env.reset()\n",
    "\n",
    "        run_reward = 0\n",
    "        is_done = False\n",
    "        while not is_done:\n",
    "            state, reward, is_done, _ = env.step(policy[state])\n",
    "\n",
    "            run_reward += reward\n",
    "\n",
    "        rewards.append(run_reward)\n",
    "\n",
    "    return np.mean(rewards)\n",
    "\n",
    "    \n",
    "def Sarsa_lambda(episodes=episodes,max_steps=max_steps,is_decay=True):\n",
    "    Q = Initialize_Q()\n",
    "    total_steps = 0\n",
    "    rewards = []\n",
    "\n",
    "    for k in tqdm(range(episodes)):\n",
    "        \n",
    "        #init E,S,A\n",
    "        E = Initialize_E()\n",
    "        state = env.reset() #random.randint(0,env.env.nS-1) \n",
    "        action = eps_greedy_policy(state,Q)\n",
    "        R = 0\n",
    "\n",
    "        for step in range(max_steps):\n",
    "            #Take action A, ovserve R,S'\n",
    "            new_state, reward, done, _ = env.step(action)\n",
    "            new_action = eps_greedy_policy(new_state,Q)\n",
    "            \n",
    "            delta_error = reward + gamma*Q[new_state,new_action]-Q[state,action]\n",
    "            E[state,action]+=1\n",
    "            Q = np.add(Q, np.multiply(alpha * delta_error, E))\n",
    "            E = np.multiply(gamma * _lambda, E)\n",
    "            \n",
    "            state=new_state\n",
    "            action=new_action\n",
    "            R+=reward\n",
    "\n",
    "            total_steps+=1\n",
    "        \n",
    "            if  total_steps % 5000 == 0:\n",
    "                policy = np.argmax(Q,axis=1)\n",
    "                policy_evaluate = policy_eval(policy)\n",
    "                history.append([total_steps,policy_evaluate])\n",
    "            \n",
    "            if done:\n",
    "                break\n",
    "        \n",
    "        #print(\"is_decay\",is_decay)\n",
    "        if is_decay:\n",
    "            tune_params()\n",
    "            \n",
    "        rewards.append(R)\n",
    "        #for debugging\n",
    "        #reward here including both exploration and explitation (not related to the policy_eval)\n",
    "        if k % 2000 == 0:\n",
    "            print(\"[Episode {0}] Average reward : {1:.3f} epsilon: {2:.3f}\".format(k,np.mean(rewards[-1000:]),epsilon))\n",
    "         \n",
    "        \n",
    "        \n",
    "    return Q,np.argmax(Q,axis=1) # returns Q and the policy\n"
   ]
  },
  {
   "cell_type": "code",
   "execution_count": 6,
   "metadata": {
    "tags": []
   },
   "outputs": [
    {
     "name": "stderr",
     "output_type": "stream",
     "text": [
      "  0%|                                                                             | 67/100000 [00:00<02:29, 666.49it/s]"
     ]
    },
    {
     "name": "stdout",
     "output_type": "stream",
     "text": [
      "[Episode 0] Average reward : 0.000 epsilon: 1.000\n"
     ]
    },
    {
     "name": "stderr",
     "output_type": "stream",
     "text": [
      "  2%|█▌                                                                        | 2156/100000 [00:02<01:36, 1011.75it/s]"
     ]
    },
    {
     "name": "stdout",
     "output_type": "stream",
     "text": [
      "[Episode 2000] Average reward : 0.002 epsilon: 0.970\n"
     ]
    },
    {
     "name": "stderr",
     "output_type": "stream",
     "text": [
      "  4%|███                                                                        | 4162/100000 [00:04<01:46, 903.85it/s]"
     ]
    },
    {
     "name": "stdout",
     "output_type": "stream",
     "text": [
      "[Episode 4000] Average reward : 0.003 epsilon: 0.942\n"
     ]
    },
    {
     "name": "stderr",
     "output_type": "stream",
     "text": [
      "  6%|████▌                                                                     | 6120/100000 [00:06<01:32, 1018.12it/s]"
     ]
    },
    {
     "name": "stdout",
     "output_type": "stream",
     "text": [
      "[Episode 6000] Average reward : 0.003 epsilon: 0.914\n"
     ]
    },
    {
     "name": "stderr",
     "output_type": "stream",
     "text": [
      "  8%|██████                                                                    | 8123/100000 [00:08<01:21, 1125.92it/s]"
     ]
    },
    {
     "name": "stdout",
     "output_type": "stream",
     "text": [
      "[Episode 8000] Average reward : 0.002 epsilon: 0.887\n"
     ]
    },
    {
     "name": "stderr",
     "output_type": "stream",
     "text": [
      " 10%|███████▍                                                                 | 10224/100000 [00:10<01:20, 1114.87it/s]"
     ]
    },
    {
     "name": "stdout",
     "output_type": "stream",
     "text": [
      "[Episode 10000] Average reward : 0.007 epsilon: 0.861\n"
     ]
    },
    {
     "name": "stderr",
     "output_type": "stream",
     "text": [
      " 12%|█████████                                                                 | 12193/100000 [00:12<01:29, 984.65it/s]"
     ]
    },
    {
     "name": "stdout",
     "output_type": "stream",
     "text": [
      "[Episode 12000] Average reward : 0.006 epsilon: 0.835\n"
     ]
    },
    {
     "name": "stderr",
     "output_type": "stream",
     "text": [
      " 14%|██████████▎                                                              | 14190/100000 [00:14<01:22, 1045.13it/s]"
     ]
    },
    {
     "name": "stdout",
     "output_type": "stream",
     "text": [
      "[Episode 14000] Average reward : 0.007 epsilon: 0.811\n"
     ]
    },
    {
     "name": "stderr",
     "output_type": "stream",
     "text": [
      " 16%|███████████▊                                                             | 16188/100000 [00:16<01:23, 1002.50it/s]"
     ]
    },
    {
     "name": "stdout",
     "output_type": "stream",
     "text": [
      "[Episode 16000] Average reward : 0.004 epsilon: 0.787\n"
     ]
    },
    {
     "name": "stderr",
     "output_type": "stream",
     "text": [
      " 18%|█████████████▎                                                           | 18219/100000 [00:18<01:17, 1048.55it/s]"
     ]
    },
    {
     "name": "stdout",
     "output_type": "stream",
     "text": [
      "[Episode 18000] Average reward : 0.010 epsilon: 0.763\n"
     ]
    },
    {
     "name": "stderr",
     "output_type": "stream",
     "text": [
      " 20%|██████████████▉                                                           | 20122/100000 [00:20<01:25, 937.81it/s]"
     ]
    },
    {
     "name": "stdout",
     "output_type": "stream",
     "text": [
      "[Episode 20000] Average reward : 0.005 epsilon: 0.741\n"
     ]
    },
    {
     "name": "stderr",
     "output_type": "stream",
     "text": [
      " 22%|████████████████▍                                                         | 22183/100000 [00:22<01:24, 924.09it/s]"
     ]
    },
    {
     "name": "stdout",
     "output_type": "stream",
     "text": [
      "[Episode 22000] Average reward : 0.008 epsilon: 0.719\n"
     ]
    },
    {
     "name": "stderr",
     "output_type": "stream",
     "text": [
      " 24%|█████████████████▊                                                        | 24128/100000 [00:24<01:18, 969.97it/s]"
     ]
    },
    {
     "name": "stdout",
     "output_type": "stream",
     "text": [
      "[Episode 24000] Average reward : 0.009 epsilon: 0.698\n"
     ]
    },
    {
     "name": "stderr",
     "output_type": "stream",
     "text": [
      " 26%|███████████████████▏                                                      | 25984/100000 [00:26<01:15, 980.05it/s]"
     ]
    },
    {
     "name": "stdout",
     "output_type": "stream",
     "text": [
      "[Episode 26000] Average reward : 0.014 epsilon: 0.677\n"
     ]
    },
    {
     "name": "stderr",
     "output_type": "stream",
     "text": [
      " 28%|████████████████████▊                                                     | 28103/100000 [00:29<01:18, 913.76it/s]"
     ]
    },
    {
     "name": "stdout",
     "output_type": "stream",
     "text": [
      "[Episode 28000] Average reward : 0.011 epsilon: 0.657\n"
     ]
    },
    {
     "name": "stderr",
     "output_type": "stream",
     "text": [
      " 30%|██████████████████████▎                                                   | 30199/100000 [00:31<01:12, 956.39it/s]"
     ]
    },
    {
     "name": "stdout",
     "output_type": "stream",
     "text": [
      "[Episode 30000] Average reward : 0.020 epsilon: 0.638\n"
     ]
    },
    {
     "name": "stderr",
     "output_type": "stream",
     "text": [
      " 32%|███████████████████████▊                                                  | 32128/100000 [00:33<01:11, 948.12it/s]"
     ]
    },
    {
     "name": "stdout",
     "output_type": "stream",
     "text": [
      "[Episode 32000] Average reward : 0.031 epsilon: 0.619\n"
     ]
    },
    {
     "name": "stderr",
     "output_type": "stream",
     "text": [
      " 34%|█████████████████████████▎                                                | 34165/100000 [00:36<01:19, 824.07it/s]"
     ]
    },
    {
     "name": "stdout",
     "output_type": "stream",
     "text": [
      "[Episode 34000] Average reward : 0.026 epsilon: 0.600\n"
     ]
    },
    {
     "name": "stderr",
     "output_type": "stream",
     "text": [
      " 36%|██████████████████████████▋                                               | 36120/100000 [00:38<01:08, 934.63it/s]"
     ]
    },
    {
     "name": "stdout",
     "output_type": "stream",
     "text": [
      "[Episode 36000] Average reward : 0.028 epsilon: 0.583\n"
     ]
    },
    {
     "name": "stderr",
     "output_type": "stream",
     "text": [
      " 38%|████████████████████████████▏                                             | 38083/100000 [00:40<01:13, 841.50it/s]"
     ]
    },
    {
     "name": "stdout",
     "output_type": "stream",
     "text": [
      "[Episode 38000] Average reward : 0.034 epsilon: 0.566\n"
     ]
    },
    {
     "name": "stderr",
     "output_type": "stream",
     "text": [
      " 40%|█████████████████████████████▋                                            | 40112/100000 [00:43<01:08, 879.70it/s]"
     ]
    },
    {
     "name": "stdout",
     "output_type": "stream",
     "text": [
      "[Episode 40000] Average reward : 0.028 epsilon: 0.549\n"
     ]
    },
    {
     "name": "stderr",
     "output_type": "stream",
     "text": [
      " 42%|███████████████████████████████▏                                          | 42092/100000 [00:45<01:03, 910.28it/s]"
     ]
    },
    {
     "name": "stdout",
     "output_type": "stream",
     "text": [
      "[Episode 42000] Average reward : 0.030 epsilon: 0.533\n"
     ]
    },
    {
     "name": "stderr",
     "output_type": "stream",
     "text": [
      " 44%|████████████████████████████████▋                                         | 44151/100000 [00:48<01:26, 647.90it/s]"
     ]
    },
    {
     "name": "stdout",
     "output_type": "stream",
     "text": [
      "[Episode 44000] Average reward : 0.029 epsilon: 0.517\n"
     ]
    },
    {
     "name": "stderr",
     "output_type": "stream",
     "text": [
      " 46%|██████████████████████████████████▏                                       | 46126/100000 [00:50<01:01, 882.04it/s]"
     ]
    },
    {
     "name": "stdout",
     "output_type": "stream",
     "text": [
      "[Episode 46000] Average reward : 0.030 epsilon: 0.502\n"
     ]
    },
    {
     "name": "stderr",
     "output_type": "stream",
     "text": [
      " 48%|███████████████████████████████████▌                                      | 48002/100000 [00:53<01:04, 808.60it/s]"
     ]
    },
    {
     "name": "stdout",
     "output_type": "stream",
     "text": [
      "[Episode 48000] Average reward : 0.038 epsilon: 0.487\n"
     ]
    },
    {
     "name": "stderr",
     "output_type": "stream",
     "text": [
      " 50%|█████████████████████████████████████                                     | 50122/100000 [00:55<01:04, 777.78it/s]"
     ]
    },
    {
     "name": "stdout",
     "output_type": "stream",
     "text": [
      "[Episode 50000] Average reward : 0.043 epsilon: 0.472\n"
     ]
    },
    {
     "name": "stderr",
     "output_type": "stream",
     "text": [
      " 52%|██████████████████████████████████████▌                                   | 52077/100000 [00:58<01:01, 785.45it/s]"
     ]
    },
    {
     "name": "stdout",
     "output_type": "stream",
     "text": [
      "[Episode 52000] Average reward : 0.058 epsilon: 0.458\n"
     ]
    },
    {
     "name": "stderr",
     "output_type": "stream",
     "text": [
      " 54%|████████████████████████████████████████                                  | 54151/100000 [01:01<00:57, 797.56it/s]"
     ]
    },
    {
     "name": "stdout",
     "output_type": "stream",
     "text": [
      "[Episode 54000] Average reward : 0.050 epsilon: 0.445\n"
     ]
    },
    {
     "name": "stderr",
     "output_type": "stream",
     "text": [
      " 56%|█████████████████████████████████████████▌                                | 56088/100000 [01:03<00:58, 747.09it/s]"
     ]
    },
    {
     "name": "stdout",
     "output_type": "stream",
     "text": [
      "[Episode 56000] Average reward : 0.063 epsilon: 0.432\n"
     ]
    },
    {
     "name": "stderr",
     "output_type": "stream",
     "text": [
      " 58%|███████████████████████████████████████████                               | 58132/100000 [01:06<00:52, 803.04it/s]"
     ]
    },
    {
     "name": "stdout",
     "output_type": "stream",
     "text": [
      "[Episode 58000] Average reward : 0.062 epsilon: 0.419\n"
     ]
    },
    {
     "name": "stderr",
     "output_type": "stream",
     "text": [
      " 60%|████████████████████████████████████████████▍                             | 60084/100000 [01:08<00:57, 689.98it/s]"
     ]
    },
    {
     "name": "stdout",
     "output_type": "stream",
     "text": [
      "[Episode 60000] Average reward : 0.081 epsilon: 0.407\n"
     ]
    },
    {
     "name": "stderr",
     "output_type": "stream",
     "text": [
      " 62%|█████████████████████████████████████████████▉                            | 62077/100000 [01:11<00:49, 759.65it/s]"
     ]
    },
    {
     "name": "stdout",
     "output_type": "stream",
     "text": [
      "[Episode 62000] Average reward : 0.075 epsilon: 0.395\n"
     ]
    },
    {
     "name": "stderr",
     "output_type": "stream",
     "text": [
      " 64%|███████████████████████████████████████████████▍                          | 64056/100000 [01:14<00:44, 810.74it/s]"
     ]
    },
    {
     "name": "stdout",
     "output_type": "stream",
     "text": [
      "[Episode 64000] Average reward : 0.074 epsilon: 0.383\n"
     ]
    },
    {
     "name": "stderr",
     "output_type": "stream",
     "text": [
      " 66%|████████████████████████████████████████████████▉                         | 66168/100000 [01:17<00:41, 812.85it/s]"
     ]
    },
    {
     "name": "stdout",
     "output_type": "stream",
     "text": [
      "[Episode 66000] Average reward : 0.087 epsilon: 0.372\n"
     ]
    },
    {
     "name": "stderr",
     "output_type": "stream",
     "text": [
      " 68%|██████████████████████████████████████████████████▍                       | 68103/100000 [01:19<01:03, 499.84it/s]"
     ]
    },
    {
     "name": "stdout",
     "output_type": "stream",
     "text": [
      "[Episode 68000] Average reward : 0.105 epsilon: 0.361\n"
     ]
    },
    {
     "name": "stderr",
     "output_type": "stream",
     "text": [
      " 70%|███████████████████████████████████████████████████▉                      | 70122/100000 [01:22<00:38, 778.55it/s]"
     ]
    },
    {
     "name": "stdout",
     "output_type": "stream",
     "text": [
      "[Episode 70000] Average reward : 0.095 epsilon: 0.350\n"
     ]
    },
    {
     "name": "stderr",
     "output_type": "stream",
     "text": [
      " 72%|█████████████████████████████████████████████████████▎                    | 72042/100000 [01:25<00:38, 728.31it/s]"
     ]
    },
    {
     "name": "stdout",
     "output_type": "stream",
     "text": [
      "[Episode 72000] Average reward : 0.109 epsilon: 0.340\n"
     ]
    },
    {
     "name": "stderr",
     "output_type": "stream",
     "text": [
      " 74%|██████████████████████████████████████████████████████▊                   | 74085/100000 [01:28<00:35, 726.12it/s]"
     ]
    },
    {
     "name": "stdout",
     "output_type": "stream",
     "text": [
      "[Episode 74000] Average reward : 0.110 epsilon: 0.330\n"
     ]
    },
    {
     "name": "stderr",
     "output_type": "stream",
     "text": [
      " 76%|████████████████████████████████████████████████████████▎                 | 76147/100000 [01:31<00:33, 709.07it/s]"
     ]
    },
    {
     "name": "stdout",
     "output_type": "stream",
     "text": [
      "[Episode 76000] Average reward : 0.112 epsilon: 0.320\n"
     ]
    },
    {
     "name": "stderr",
     "output_type": "stream",
     "text": [
      " 78%|█████████████████████████████████████████████████████████▊                | 78059/100000 [01:34<00:30, 725.16it/s]"
     ]
    },
    {
     "name": "stdout",
     "output_type": "stream",
     "text": [
      "[Episode 78000] Average reward : 0.106 epsilon: 0.310\n"
     ]
    },
    {
     "name": "stderr",
     "output_type": "stream",
     "text": [
      " 80%|███████████████████████████████████████████████████████████▎              | 80132/100000 [01:37<00:28, 701.38it/s]"
     ]
    },
    {
     "name": "stdout",
     "output_type": "stream",
     "text": [
      "[Episode 80000] Average reward : 0.135 epsilon: 0.301\n"
     ]
    },
    {
     "name": "stderr",
     "output_type": "stream",
     "text": [
      " 82%|████████████████████████████████████████████████████████████▊             | 82097/100000 [01:40<00:33, 527.53it/s]"
     ]
    },
    {
     "name": "stdout",
     "output_type": "stream",
     "text": [
      "[Episode 82000] Average reward : 0.091 epsilon: 0.292\n"
     ]
    },
    {
     "name": "stderr",
     "output_type": "stream",
     "text": [
      " 84%|██████████████████████████████████████████████████████████████▏           | 84086/100000 [01:43<00:27, 584.19it/s]"
     ]
    },
    {
     "name": "stdout",
     "output_type": "stream",
     "text": [
      "[Episode 84000] Average reward : 0.140 epsilon: 0.284\n"
     ]
    },
    {
     "name": "stderr",
     "output_type": "stream",
     "text": [
      " 86%|███████████████████████████████████████████████████████████████▋          | 86092/100000 [01:46<00:29, 465.84it/s]"
     ]
    },
    {
     "name": "stdout",
     "output_type": "stream",
     "text": [
      "[Episode 86000] Average reward : 0.156 epsilon: 0.275\n"
     ]
    },
    {
     "name": "stderr",
     "output_type": "stream",
     "text": [
      " 88%|█████████████████████████████████████████████████████████████████▏        | 88081/100000 [01:49<00:16, 706.01it/s]"
     ]
    },
    {
     "name": "stdout",
     "output_type": "stream",
     "text": [
      "[Episode 88000] Average reward : 0.177 epsilon: 0.267\n"
     ]
    },
    {
     "name": "stderr",
     "output_type": "stream",
     "text": [
      " 90%|██████████████████████████████████████████████████████████████████▋       | 90067/100000 [01:52<00:14, 676.74it/s]"
     ]
    },
    {
     "name": "stdout",
     "output_type": "stream",
     "text": [
      "[Episode 90000] Average reward : 0.190 epsilon: 0.259\n"
     ]
    },
    {
     "name": "stderr",
     "output_type": "stream",
     "text": [
      " 92%|████████████████████████████████████████████████████████████████████▏     | 92133/100000 [01:55<00:11, 676.55it/s]"
     ]
    },
    {
     "name": "stdout",
     "output_type": "stream",
     "text": [
      "[Episode 92000] Average reward : 0.187 epsilon: 0.252\n"
     ]
    },
    {
     "name": "stderr",
     "output_type": "stream",
     "text": [
      " 94%|█████████████████████████████████████████████████████████████████████▋    | 94089/100000 [01:58<00:08, 671.41it/s]"
     ]
    },
    {
     "name": "stdout",
     "output_type": "stream",
     "text": [
      "[Episode 94000] Average reward : 0.119 epsilon: 0.244\n"
     ]
    },
    {
     "name": "stderr",
     "output_type": "stream",
     "text": [
      " 96%|███████████████████████████████████████████████████████████████████████▏  | 96120/100000 [02:01<00:05, 675.13it/s]"
     ]
    },
    {
     "name": "stdout",
     "output_type": "stream",
     "text": [
      "[Episode 96000] Average reward : 0.174 epsilon: 0.237\n"
     ]
    },
    {
     "name": "stderr",
     "output_type": "stream",
     "text": [
      " 98%|████████████████████████████████████████████████████████████████████████▌ | 98121/100000 [02:04<00:02, 730.66it/s]"
     ]
    },
    {
     "name": "stdout",
     "output_type": "stream",
     "text": [
      "[Episode 98000] Average reward : 0.171 epsilon: 0.230\n"
     ]
    },
    {
     "name": "stderr",
     "output_type": "stream",
     "text": [
      "100%|█████████████████████████████████████████████████████████████████████████| 100000/100000 [02:06<00:00, 788.33it/s]\n"
     ]
    }
   ],
   "source": [
    "Q,Policy = Sarsa_lambda(episodes,max_steps)"
   ]
  },
  {
   "cell_type": "code",
   "execution_count": 7,
   "metadata": {},
   "outputs": [
    {
     "data": {
      "image/png": "[encoded data removed]",
      "text/plain": [
       "<Figure size 432x288 with 1 Axes>"
      ]
     },
     "metadata": {
      "needs_background": "light"
     },
     "output_type": "display_data"
    }
   ],
   "source": [
    "history = np.array(history)\n",
    "\n",
    "import matplotlib.pyplot as plt\n",
    "plt.plot(history[:, 0], history[:, 1], '.') \n",
    "plt.xlabel('steps:')\n",
    "plt.ylabel('Cumulative rewards')\n",
    "\n",
    "str_epsilon = epsilon\n",
    "if is_decay:\n",
    "    str_epsilon = str(epsilon_origin)+\"*0.99^n\"\n",
    "\n",
    "title = \"epsilon: {}, alpha: {}, lambda: {}\".format(str_epsilon, alpha, _lambda)\n",
    "plt.title(title)\n",
    "plt.savefig(\"policy_eval_over_steps.png\")\n",
    "plt.show()"
   ]
  },
  {
   "cell_type": "code",
   "execution_count": 8,
   "metadata": {},
   "outputs": [
    {
     "name": "stdout",
     "output_type": "stream",
     "text": [
      "\n",
      "\u001b[41mS\u001b[0mFFFFFFF\n",
      "FFFFFFFF\n",
      "FFFHFFFF\n",
      "FFFFFHFF\n",
      "FFFHFFFF\n",
      "FHHFFFHF\n",
      "FHFFHFHF\n",
      "FFFHFFFG\n",
      "[['>' '^' '>' '>' '>' '>' '>' '>']\n",
      " ['^' '^' '^' '^' '>' '>' '>' '>']\n",
      " ['^' '^' '<' '<' '>' '^' '>' 'v']\n",
      " ['^' '^' '^' '^' '<' '<' '>' 'v']\n",
      " ['^' '^' '<' '<' '>' 'v' '^' '>']\n",
      " ['^' '<' '<' 'v' '^' '<' '<' '>']\n",
      " ['<' '<' 'v' '^' '<' '<' '<' '>']\n",
      " ['<' 'v' '<' '<' '>' 'v' 'v' '<']]\n"
     ]
    }
   ],
   "source": [
    "def decode_action(action):\n",
    "    if action == 0:\n",
    "        return \"<\"\n",
    "    if action == 1:\n",
    "        return \"v\"\n",
    "    if action == 2:\n",
    "        return \">\"\n",
    "    if action == 3:\n",
    "        return \"^\"\n",
    "    else:\n",
    "        return \"Unknown\"\n",
    "\n",
    "env.reset()\n",
    "env.render()\n",
    "\n",
    "if env_type == \"FrozenLake8x8-v0\":\n",
    "    print(np.array([decode_action(action) for action in Policy]).reshape((8, 8)))\n",
    "if env_type == \"FrozenLake-v0\":\n",
    "    print(np.array([decode_action(action) for action in Policy]).reshape((4, 4)))\n",
    "        "
   ]
  }
 ],
 "metadata": {
  "kernelspec": {
   "display_name": "Python 3",
   "language": "python",
   "name": "python3"
  },
  "language_info": {
   "codemirror_mode": {
    "name": "ipython",
    "version": 3
   },
   "file_extension": ".py",
   "mimetype": "text/x-python",
   "name": "python",
   "nbconvert_exporter": "python",
   "pygments_lexer": "ipython3",
   "version": "3.8.5"
  }
 },
 "nbformat": 4,
 "nbformat_minor": 2
}
